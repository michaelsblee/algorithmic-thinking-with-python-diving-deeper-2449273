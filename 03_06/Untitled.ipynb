{
 "cells": [
  {
   "cell_type": "code",
   "execution_count": 104,
   "id": "a3572df1",
   "metadata": {},
   "outputs": [],
   "source": [
    "import random\n",
    "PUZZLE_SIZE = 10"
   ]
  },
  {
   "cell_type": "code",
   "execution_count": 105,
   "id": "7eccacd3",
   "metadata": {},
   "outputs": [],
   "source": [
    "# Create random puzzle\n",
    "# random.sample ensures no duplicates\n",
    "puzzle_nums = random.sample(range(100), PUZZLE_SIZE)\n",
    "puzzle_symbols = []"
   ]
  },
  {
   "cell_type": "code",
   "execution_count": 106,
   "id": "0d595362",
   "metadata": {},
   "outputs": [],
   "source": [
    "# Randomly assign inequalities\n",
    "for i in range(PUZZLE_SIZE - 1):\n",
    "    puzzle_symbols.append(\">\" if random.random() < .5 else \"<\")"
   ]
  },
  {
   "cell_type": "code",
   "execution_count": 107,
   "id": "de325ae4",
   "metadata": {},
   "outputs": [
    {
     "data": {
      "text/plain": [
       "['>', '>', '<', '<', '<', '>', '>', '<', '<']"
      ]
     },
     "execution_count": 107,
     "metadata": {},
     "output_type": "execute_result"
    }
   ],
   "source": [
    "puzzle_symbols"
   ]
  },
  {
   "cell_type": "code",
   "execution_count": 108,
   "id": "328960fa",
   "metadata": {},
   "outputs": [],
   "source": [
    "# Sort puzzle numbers first\n",
    "# Use largest remaining if greater than, smallest remaining if less than\n",
    "sorted_puzzle_nums = sorted(puzzle_nums, reverse=True)"
   ]
  },
  {
   "cell_type": "code",
   "execution_count": 109,
   "id": "5959ba20",
   "metadata": {},
   "outputs": [],
   "source": [
    "high = 0\n",
    "low = PUZZLE_SIZE - 1"
   ]
  },
  {
   "cell_type": "code",
   "execution_count": 110,
   "id": "72b90f6b",
   "metadata": {},
   "outputs": [],
   "source": [
    "# store solution values\n",
    "solution_values = []"
   ]
  },
  {
   "cell_type": "code",
   "execution_count": 111,
   "id": "3cad8651",
   "metadata": {},
   "outputs": [
    {
     "name": "stdout",
     "output_type": "stream",
     "text": [
      "[94]\n",
      "[94, 57]\n",
      "[94, 57, 1]\n",
      "[94, 57, 1, 6]\n",
      "[94, 57, 1, 6, 10]\n",
      "[94, 57, 1, 6, 10, 53]\n",
      "[94, 57, 1, 6, 10, 53, 47]\n",
      "[94, 57, 1, 6, 10, 53, 47, 25]\n",
      "[94, 57, 1, 6, 10, 53, 47, 25, 26]\n",
      "[94, 57, 1, 6, 10, 53, 47, 25, 26]\n"
     ]
    }
   ],
   "source": [
    "# Iterate through the inequalities and apply solution algorithm to populate solution_values\n",
    "# You may need to add the last value outside the loop\n",
    "for i in puzzle_symbols:\n",
    "    if i == \">\":\n",
    "        solution_values.append(sorted_puzzle_nums[high])\n",
    "        high += 1\n",
    "        print(solution_values)\n",
    "    else:\n",
    "        solution_values.append(sorted_puzzle_nums[low])\n",
    "        low -= 1\n",
    "        print(solution_values)\n",
    "print(solution_values)"
   ]
  },
  {
   "cell_type": "code",
   "execution_count": 112,
   "id": "2cdade0b",
   "metadata": {},
   "outputs": [
    {
     "data": {
      "text/plain": [
       "True"
      ]
     },
     "execution_count": 112,
     "metadata": {},
     "output_type": "execute_result"
    }
   ],
   "source": [
    "len(solution_values) < PUZZLE_SIZE"
   ]
  },
  {
   "cell_type": "code",
   "execution_count": 113,
   "id": "b73ae918",
   "metadata": {},
   "outputs": [],
   "source": [
    "solution_values.append(sorted_puzzle_nums[high])"
   ]
  },
  {
   "cell_type": "code",
   "execution_count": 114,
   "id": "e1b2dbfa",
   "metadata": {},
   "outputs": [
    {
     "name": "stdout",
     "output_type": "stream",
     "text": [
      "[94, 57, 1, 6, 10, 53, 47, 25, 26, 39]\n"
     ]
    }
   ],
   "source": [
    "print(solution_values)"
   ]
  },
  {
   "cell_type": "code",
   "execution_count": 20,
   "id": "cddf21b1",
   "metadata": {},
   "outputs": [
    {
     "data": {
      "text/plain": [
       "4"
      ]
     },
     "execution_count": 20,
     "metadata": {},
     "output_type": "execute_result"
    }
   ],
   "source": [
    "low"
   ]
  },
  {
   "cell_type": "code",
   "execution_count": null,
   "id": "bd362711",
   "metadata": {},
   "outputs": [],
   "source": []
  }
 ],
 "metadata": {
  "kernelspec": {
   "display_name": "Python 3 (ipykernel)",
   "language": "python",
   "name": "python3"
  },
  "language_info": {
   "codemirror_mode": {
    "name": "ipython",
    "version": 3
   },
   "file_extension": ".py",
   "mimetype": "text/x-python",
   "name": "python",
   "nbconvert_exporter": "python",
   "pygments_lexer": "ipython3",
   "version": "3.9.13"
  }
 },
 "nbformat": 4,
 "nbformat_minor": 5
}
